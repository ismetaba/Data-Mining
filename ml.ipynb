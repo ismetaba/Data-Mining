{
 "cells": [
  {
   "cell_type": "code",
   "execution_count": 1,
   "id": "ad0c6bec-a74b-478b-bd6e-271fcf221020",
   "metadata": {},
   "outputs": [],
   "source": [
    "from sklearn.datasets import load_breast_cancer\n",
    "import numpy as np\n",
    "import collections\n",
    "from knnor import data_augment\n",
    "import pandas as pd"
   ]
  },
  {
   "cell_type": "code",
   "execution_count": 2,
   "id": "ccf01e54-5858-4067-b6b1-7e5f033ff8b3",
   "metadata": {},
   "outputs": [],
   "source": [
    "df = pd.read_csv(\"port.csv\", sep=';')\n",
    "#df = pd.read_csv(\"mat.csv\", sep=';')\n",
    "df['school'] = pd.factorize(df['school'])[0]\n",
    "df['sex'] = pd.factorize(df['sex'])[0]\n",
    "df['address'] = pd.factorize(df['address'])[0]\n",
    "df['famsize'] = pd.factorize(df['famsize'])[0]\n",
    "df['Pstatus'] = pd.factorize(df['Pstatus'])[0]\n",
    "df['Mjob'] = pd.factorize(df['Mjob'])[0]\n",
    "df['Fjob'] = pd.factorize(df['Fjob'])[0]\n",
    "df['reason'] = pd.factorize(df['reason'])[0]\n",
    "df['guardian'] = pd.factorize(df['guardian'])[0]\n",
    "df['schoolsup'] = pd.factorize(df['schoolsup'])[0]\n",
    "df['famsup'] = pd.factorize(df['famsup'])[0]\n",
    "df['paid'] = pd.factorize(df['paid'])[0]\n",
    "df['activities'] = pd.factorize(df['activities'])[0]\n",
    "df['nursery'] = pd.factorize(df['nursery'])[0]\n",
    "df['higher'] = pd.factorize(df['higher'])[0]\n",
    "df['internet'] = pd.factorize(df['internet'])[0]\n",
    "df['romantic'] = pd.factorize(df['romantic'])[0]"
   ]
  },
  {
   "cell_type": "code",
   "execution_count": 3,
   "id": "a6bacd54-e178-4cba-ade6-b144c6155df7",
   "metadata": {},
   "outputs": [],
   "source": [
    "X = df.to_numpy()\n",
    "X = np.delete(X, -1, axis=1)\n",
    "y = df.to_numpy()\n",
    "y = y[:,-1]\n",
    "counter = 0\n",
    "for i in y:\n",
    "    if (i <= 9):\n",
    "        y[counter] = 0;\n",
    "    elif (i <= 11):\n",
    "        y[counter] = 1;\n",
    "    elif (i <= 13):\n",
    "        y[counter] = 2;\n",
    "    elif (i <= 15):\n",
    "        y[counter] = 3;\n",
    "    else:\n",
    "        y[counter] = 4;\n",
    "    counter+=1"
   ]
  },
  {
   "cell_type": "code",
   "execution_count": 4,
   "id": "cceb2f69-ab28-45ea-aa1b-e6f650f4d8c5",
   "metadata": {},
   "outputs": [
    {
     "data": {
      "text/plain": [
       "array([[ 0,  0, 18, ...,  6,  5,  6],\n",
       "       [ 0,  0, 17, ...,  4,  5,  5],\n",
       "       [ 0,  0, 15, ..., 10,  7,  8],\n",
       "       ...,\n",
       "       [ 1,  1, 21, ...,  3, 10,  8],\n",
       "       [ 1,  1, 18, ...,  0, 11, 12],\n",
       "       [ 1,  1, 19, ...,  5,  8,  9]])"
      ]
     },
     "execution_count": 4,
     "metadata": {},
     "output_type": "execute_result"
    }
   ],
   "source": [
    "X"
   ]
  },
  {
   "cell_type": "code",
   "execution_count": 5,
   "id": "a1a6a9e7-4b55-414b-b3f8-c13b4eb06705",
   "metadata": {},
   "outputs": [
    {
     "data": {
      "text/plain": [
       "array([0, 0, 1, 3, 1, 3, 1, 0, 4, 3, 0, 2, 3, 1, 4, 3, 3, 1, 0, 1, 3, 3,\n",
       "       4, 2, 0, 0, 1, 3, 1, 1, 2, 4, 4, 2, 3, 0, 4, 3, 1, 2, 1, 2, 4, 1,\n",
       "       0, 0, 1, 4, 3, 0, 2, 2, 1, 1, 2, 1, 3, 3, 0, 4, 1, 1, 0, 0, 1, 3,\n",
       "       2, 0, 0, 4, 3, 1, 0, 3, 1, 1, 1, 1, 1, 0, 2, 1, 0, 3, 1, 0, 0, 3,\n",
       "       1, 0, 0, 4, 0, 1, 3, 1, 3, 1, 3, 0, 0, 4, 3, 0, 4, 1, 0, 4, 2, 4,\n",
       "       4, 1, 2, 4, 0, 4, 3, 2, 0, 2, 3, 3, 2, 2, 0, 2, 1, 0, 0, 4, 0, 0,\n",
       "       2, 1, 0, 0, 0, 0, 2, 3, 0, 0, 1, 2, 0, 1, 0, 1, 0, 1, 0, 3, 1, 0,\n",
       "       2, 0, 2, 1, 3, 2, 0, 0, 0, 1, 0, 2, 1, 4, 0, 3, 0, 4, 1, 0, 0, 0,\n",
       "       1, 0, 0, 1, 0, 2, 4, 0, 2, 1, 1, 3, 0, 1, 2, 0, 0, 1, 3, 3, 4, 1,\n",
       "       4, 1, 4, 1, 1, 0, 1, 0, 0, 2, 1, 0, 0, 2, 3, 0, 1, 3, 0, 0, 0, 1,\n",
       "       0, 0, 4, 2, 3, 0, 3, 2, 0, 2, 3, 1, 0, 2, 0, 1, 2, 2, 1, 0, 2, 2,\n",
       "       0, 2, 0, 4, 2, 0, 0, 3, 0, 1, 0, 0, 2, 0, 2, 1, 3, 0, 4, 0, 2, 0,\n",
       "       0, 4, 1, 1, 1, 0, 0, 3, 1, 3, 1, 2, 0, 0, 0, 1, 0, 1, 2, 1, 1, 1,\n",
       "       4, 2, 3, 3, 1, 3, 2, 4, 3, 1, 0, 0, 3, 4, 1, 1, 3, 4, 2, 2, 4, 0,\n",
       "       2, 1, 0, 2, 1, 1, 2, 1, 0, 0, 1, 1, 2, 0, 1, 3, 3, 1, 4, 1, 0, 3,\n",
       "       0, 3, 0, 0, 0, 3, 2, 0, 4, 1, 1, 0, 3, 0, 1, 3, 4, 0, 3, 2, 0, 2,\n",
       "       0, 0, 1, 0, 2, 1, 1, 4, 2, 2, 1, 3, 2, 1, 2, 0, 1, 1, 0, 2, 1, 0,\n",
       "       4, 1, 3, 1, 3, 1, 3, 0, 1, 0, 0, 1, 0, 0, 0, 0, 0, 4, 0, 1, 0])"
      ]
     },
     "execution_count": 5,
     "metadata": {},
     "output_type": "execute_result"
    }
   ],
   "source": [
    "y"
   ]
  },
  {
   "cell_type": "code",
   "execution_count": 6,
   "id": "8154cb90-3ac9-43a3-9f6a-1fad8d9bf1d9",
   "metadata": {},
   "outputs": [
    {
     "name": "stdout",
     "output_type": "stream",
     "text": [
      "Original shape= (395, 32) (395,)\n",
      "Original distribution:\n",
      "0: 130\n",
      "1: 103\n",
      "3: 60\n",
      "4: 40\n",
      "2: 62\n"
     ]
    }
   ],
   "source": [
    "print(\"Original shape=\",X.shape,y.shape)\n",
    "elements_count = collections.Counter(y)\n",
    "# printing the element and the frequency\n",
    "print(\"Original distribution:\")\n",
    "for key, value in elements_count.items():\n",
    "    print(f\"{key}: {value}\")"
   ]
  },
  {
   "cell_type": "code",
   "execution_count": 7,
   "id": "8dc2b120-dadf-4051-92bd-2363cdc60633",
   "metadata": {},
   "outputs": [
    {
     "name": "stdout",
     "output_type": "stream",
     "text": [
      "355 40 (395,)\n",
      "355 40 (395,)\n",
      "Shape after augmentation (481, 32) (481,)\n",
      "Final distribution:\n",
      "0: 130\n",
      "1: 103\n",
      "3: 60\n",
      "4: 126\n",
      "2: 62\n"
     ]
    }
   ],
   "source": [
    "knnor=data_augment.KNNOR()\n",
    "X_new1,y_new1,_,_=knnor.fit_resample(X,y,final_proportion=.356)\n",
    "\n",
    "print(\"Shape after augmentation\",X_new1.shape,y_new1.shape)\n",
    "elements_count = collections.Counter(y_new1)\n",
    "# printing the element and the frequency\n",
    "print(\"Final distribution:\")\n",
    "for key, value in elements_count.items():\n",
    "    print(f\"{key}: {value}\")"
   ]
  },
  {
   "cell_type": "code",
   "execution_count": 8,
   "id": "586f3784-2b8a-4b15-a8bd-d0e42fba77dd",
   "metadata": {},
   "outputs": [
    {
     "name": "stdout",
     "output_type": "stream",
     "text": [
      "421 60 (481,)\n",
      "421 60 (481,)\n",
      "Shape after augmentation (547, 32) (547,)\n",
      "Final distribution:\n",
      "0: 130\n",
      "1: 103\n",
      "3: 126\n",
      "4: 126\n",
      "2: 62\n"
     ]
    }
   ],
   "source": [
    "X_new2,y_new2,_,_=knnor.fit_resample(X_new1,y_new1,final_proportion=.301)\n",
    "\n",
    "print(\"Shape after augmentation\",X_new2.shape,y_new2.shape)\n",
    "elements_count = collections.Counter(y_new2)\n",
    "# printing the element and the frequency\n",
    "print(\"Final distribution:\")\n",
    "for key, value in elements_count.items():\n",
    "    print(f\"{key}: {value}\")"
   ]
  },
  {
   "cell_type": "code",
   "execution_count": 9,
   "id": "470c9749-59f7-4110-8f53-c8605b7fa823",
   "metadata": {},
   "outputs": [
    {
     "name": "stdout",
     "output_type": "stream",
     "text": [
      "485 62 (547,)\n",
      "485 62 (547,)\n",
      "Shape after augmentation (614, 32) (614,)\n",
      "Final distribution:\n",
      "0: 130\n",
      "1: 103\n",
      "3: 126\n",
      "4: 126\n",
      "2: 129\n"
     ]
    }
   ],
   "source": [
    "X_new3,y_new3,_,_=knnor.fit_resample(X_new2,y_new2,final_proportion=.266)\n",
    "\n",
    "print(\"Shape after augmentation\",X_new3.shape,y_new3.shape)\n",
    "elements_count = collections.Counter(y_new3)\n",
    "# printing the element and the frequency\n",
    "print(\"Final distribution:\")\n",
    "for key, value in elements_count.items():\n",
    "    print(f\"{key}: {value}\")"
   ]
  },
  {
   "cell_type": "code",
   "execution_count": 10,
   "id": "b86cbdd9-432e-4661-8a96-5e863bbbdb5a",
   "metadata": {},
   "outputs": [
    {
     "name": "stdout",
     "output_type": "stream",
     "text": [
      "511 103 (614,)\n",
      "511 103 (614,)\n",
      "Shape after augmentation (638, 32) (638,)\n",
      "Final distribution:\n",
      "0: 130\n",
      "1: 127\n",
      "3: 126\n",
      "4: 126\n",
      "2: 129\n"
     ]
    }
   ],
   "source": [
    "X_new4,y_new4,_,_=knnor.fit_resample(X_new3,y_new3,final_proportion=.25)\n",
    "\n",
    "print(\"Shape after augmentation\",X_new4.shape,y_new4.shape)\n",
    "elements_count = collections.Counter(y_new4)\n",
    "# printing the element and the frequency\n",
    "print(\"Final distribution:\")\n",
    "for key, value in elements_count.items():\n",
    "    print(f\"{key}: {value}\")"
   ]
  },
  {
   "cell_type": "code",
   "execution_count": 11,
   "id": "35d43bcd-d7da-46e0-ba67-bdd58aa68e65",
   "metadata": {},
   "outputs": [
    {
     "data": {
      "text/plain": [
       "(638, 32)"
      ]
     },
     "execution_count": 11,
     "metadata": {},
     "output_type": "execute_result"
    }
   ],
   "source": [
    "X_new4.shape"
   ]
  },
  {
   "cell_type": "code",
   "execution_count": 12,
   "id": "0f25ef3a-d22a-4098-9913-6c77962946d2",
   "metadata": {},
   "outputs": [
    {
     "data": {
      "text/plain": [
       "(638,)"
      ]
     },
     "execution_count": 12,
     "metadata": {},
     "output_type": "execute_result"
    }
   ],
   "source": [
    "y_new4.shape\n"
   ]
  },
  {
   "cell_type": "code",
   "execution_count": 13,
   "id": "91622804-050c-406b-bf5e-d4facfb5fc53",
   "metadata": {},
   "outputs": [],
   "source": [
    "from sklearn import datasets\n",
    "from sklearn.model_selection import train_test_split\n",
    "from sklearn.ensemble import RandomForestClassifier\n",
    "from sklearn import metrics\n",
    "\n",
    "def calculateRandomForest(X, y):\n",
    "    X_train, X_test, y_train, y_test = train_test_split(X, y, test_size=0.3) # 70% training and 30% test\n",
    "    clf=RandomForestClassifier(n_estimators=100)\n",
    "    clf.fit(X_train,y_train)\n",
    "    y_pred=clf.predict(X_test)\n",
    "    print(\"Accuracy:\",metrics.accuracy_score(y_test, y_pred))\n"
   ]
  },
  {
   "cell_type": "code",
   "execution_count": 14,
   "id": "df8cc448-aeb0-43b5-968f-1fca54e8cb14",
   "metadata": {},
   "outputs": [],
   "source": [
    "from sklearn.svm import SVC\n",
    "\n",
    "def calculateWithSVM(X,y):\n",
    "    X_train, X_test, y_train, y_test = train_test_split(X, y, test_size=0.3) # 70% training and 30% test\n",
    "    classifier = SVC(kernel='rbf', random_state = 1)\n",
    "    classifier.fit(X_train,y_train)\n",
    "    y_pred = classifier.predict(X_test)\n",
    "    print(\"Accuracy:\",metrics.accuracy_score(y_test, y_pred))\n",
    "\n",
    "\n",
    "\n"
   ]
  },
  {
   "cell_type": "code",
   "execution_count": 15,
   "id": "9e16169e-5ed2-4eec-97c0-2fac515f22aa",
   "metadata": {},
   "outputs": [],
   "source": [
    "from sklearn.tree import DecisionTreeClassifier # Import Decision Tree Classifier\n",
    "\n",
    "def calculateWithDecisionTree(X, y):\n",
    "    clf = DecisionTreeClassifier()\n",
    "    clf = clf.fit(X_train,y_train)\n",
    "    y_pred = clf.predict(X_test)\n",
    "    print(\"Accuracy:\",metrics.accuracy_score(y_test, y_pred))\n",
    "\n"
   ]
  },
  {
   "cell_type": "code",
   "execution_count": 16,
   "id": "fe4d547e-c3ed-4e69-b108-b3852e6782c3",
   "metadata": {},
   "outputs": [
    {
     "name": "stdout",
     "output_type": "stream",
     "text": [
      "Before knnor with Decision tree: \n",
      "Accuracy: 0.6974789915966386\n",
      "After knnor with Decision tree: \n",
      "Accuracy: 0.8541666666666666\n"
     ]
    }
   ],
   "source": [
    "print(\"Before knnor with Decision tree: \")\n",
    "calculateRandomForest(X, y)\n",
    "print(\"After knnor with Decision tree: \")\n",
    "calculateRandomForest(X_new4, y_new4)"
   ]
  },
  {
   "cell_type": "code",
   "execution_count": 17,
   "id": "f6c99126-20ba-415d-ae99-667215e44614",
   "metadata": {},
   "outputs": [
    {
     "name": "stdout",
     "output_type": "stream",
     "text": [
      "Before knnor with Random Forest: \n",
      "Accuracy: 0.7563025210084033\n",
      "After knnor with Random Forest: \n",
      "Accuracy: 0.828125\n"
     ]
    }
   ],
   "source": [
    "print(\"Before knnor with Random Forest: \")\n",
    "calculateRandomForest(X, y)\n",
    "print(\"After knnor with Random Forest: \")\n",
    "calculateRandomForest(X_new4, y_new4)"
   ]
  },
  {
   "cell_type": "code",
   "execution_count": 18,
   "id": "6a8962b2-b958-487f-86c3-f4845bd0202e",
   "metadata": {},
   "outputs": [
    {
     "name": "stdout",
     "output_type": "stream",
     "text": [
      "Before knnor with SVM: \n",
      "Accuracy: 0.6302521008403361\n",
      "After knnor  with SVM: \n",
      "Accuracy: 0.8229166666666666\n"
     ]
    }
   ],
   "source": [
    "print(\"Before knnor with SVM: \")\n",
    "calculateWithSVM(X, y)\n",
    "print(\"After knnor  with SVM: \")\n",
    "calculateWithSVM(X_new4, y_new4)"
   ]
  },
  {
   "cell_type": "code",
   "execution_count": null,
   "id": "2328731b-623b-4274-8392-cc12eb95ae83",
   "metadata": {},
   "outputs": [],
   "source": []
  },
  {
   "cell_type": "code",
   "execution_count": null,
   "id": "b680b1bd-50f3-4819-9500-336267206173",
   "metadata": {},
   "outputs": [],
   "source": []
  },
  {
   "cell_type": "code",
   "execution_count": null,
   "id": "96a51144-b8d2-4168-8b9c-4bfe0f91b858",
   "metadata": {},
   "outputs": [],
   "source": []
  },
  {
   "cell_type": "code",
   "execution_count": 19,
   "id": "e2025f9e-b881-4673-b004-cb5677387ecd",
   "metadata": {},
   "outputs": [],
   "source": [
    "from sklearn.model_selection import KFold \n",
    "from sklearn.model_selection import RepeatedKFold\n",
    "\n",
    "def calculateWithDecisionTreeWithCrossValidation(X, y):\n",
    "    kf = RepeatedKFold(n_splits=5, n_repeats=10, random_state=None) \n",
    "\n",
    "    counter = 0\n",
    "    for train_index, test_index in kf.split(X):\n",
    "        X_train, X_test = X[train_index], X[test_index] \n",
    "        y_train, y_test = y[train_index], y[test_index]\n",
    "        clf = DecisionTreeClassifier()\n",
    "        clf.fit(X_train,y_train)\n",
    "        y_pred=clf.predict(X_test)\n",
    "        counter += metrics.accuracy_score(y_test, y_pred)\n",
    "    print(\"Accuracy:\",counter / 50)\n",
    "        "
   ]
  },
  {
   "cell_type": "code",
   "execution_count": 20,
   "id": "6d07bdb1-ddcc-4b38-adb4-65b1ed2e8105",
   "metadata": {},
   "outputs": [],
   "source": [
    "from sklearn.model_selection import KFold \n",
    "from sklearn.model_selection import RepeatedKFold\n",
    "\n",
    "def calculateWithRandomForestWithCrossValidation(X, y):\n",
    "    kf = RepeatedKFold(n_splits=5, n_repeats=10, random_state=None) \n",
    "\n",
    "    counter = 0\n",
    "    for train_index, test_index in kf.split(X):\n",
    "        X_train, X_test = X[train_index], X[test_index] \n",
    "        y_train, y_test = y[train_index], y[test_index]\n",
    "        clf=RandomForestClassifier(n_estimators=100)\n",
    "        clf.fit(X_train,y_train)\n",
    "        y_pred=clf.predict(X_test)\n",
    "        counter += metrics.accuracy_score(y_test, y_pred)\n",
    "    print(\"Accuracy:\",counter / 50)\n",
    "        "
   ]
  },
  {
   "cell_type": "code",
   "execution_count": 21,
   "id": "6f334285-216e-42c0-8b4c-7e88cbdd9ac5",
   "metadata": {},
   "outputs": [],
   "source": [
    "from sklearn.model_selection import KFold \n",
    "from sklearn.model_selection import RepeatedKFold\n",
    "\n",
    "def calculateWithSVMWithCrossValidation(X, y):\n",
    "    kf = RepeatedKFold(n_splits=5, n_repeats=10, random_state=None) \n",
    "\n",
    "    counter = 0\n",
    "    for train_index, test_index in kf.split(X):\n",
    "        X_train, X_test = X[train_index], X[test_index] \n",
    "        y_train, y_test = y[train_index], y[test_index]\n",
    "        clf = SVC(kernel='rbf', random_state = 1)\n",
    "        clf.fit(X_train,y_train)\n",
    "        y_pred=clf.predict(X_test)\n",
    "        counter += metrics.accuracy_score(y_test, y_pred)\n",
    "    print(\"Accuracy:\",counter / 50)\n",
    "        "
   ]
  },
  {
   "cell_type": "code",
   "execution_count": 22,
   "id": "62ec21f9-0e1d-4fc2-bcd4-cd3fcae9505b",
   "metadata": {},
   "outputs": [
    {
     "name": "stdout",
     "output_type": "stream",
     "text": [
      "Before knnor with Decision tree: \n",
      "Accuracy: 0.6711392405063292\n",
      "After knnor with Decision tree: \n",
      "Accuracy: 0.7824557086614173\n"
     ]
    }
   ],
   "source": [
    "print(\"Before knnor with Decision tree: \")\n",
    "calculateWithDecisionTreeWithCrossValidation(X, y)\n",
    "print(\"After knnor with Decision tree: \")\n",
    "calculateWithDecisionTreeWithCrossValidation(X_new4, y_new4)"
   ]
  },
  {
   "cell_type": "code",
   "execution_count": 23,
   "id": "44754b19-6880-4ec0-88e8-d163a5565ef4",
   "metadata": {},
   "outputs": [
    {
     "name": "stdout",
     "output_type": "stream",
     "text": [
      "Before knnor with Random Forest: \n",
      "Accuracy: 0.7096202531645566\n",
      "After knnor with Random Forest: \n",
      "Accuracy: 0.8321272145669291\n"
     ]
    }
   ],
   "source": [
    "print(\"Before knnor with Random Forest: \")\n",
    "calculateWithRandomForestWithCrossValidation(X, y)\n",
    "print(\"After knnor with Random Forest: \")\n",
    "calculateWithRandomForestWithCrossValidation(X_new4, y_new4)"
   ]
  },
  {
   "cell_type": "code",
   "execution_count": 24,
   "id": "341e6bf2-db92-4c7d-8178-03f826717194",
   "metadata": {},
   "outputs": [
    {
     "name": "stdout",
     "output_type": "stream",
     "text": [
      "Before knnor with SVM: \n",
      "Accuracy: 0.6630379746835443\n",
      "After knnor with SVM: \n",
      "Accuracy: 0.8076833169291338\n"
     ]
    }
   ],
   "source": [
    "print(\"Before knnor with SVM: \")\n",
    "calculateWithSVMWithCrossValidation(X, y)\n",
    "print(\"After knnor with SVM: \")\n",
    "calculateWithSVMWithCrossValidation(X_new4, y_new4)"
   ]
  },
  {
   "cell_type": "code",
   "execution_count": null,
   "id": "c0feb188-238b-492e-bbcd-b07a7147fa48",
   "metadata": {},
   "outputs": [],
   "source": []
  },
  {
   "cell_type": "code",
   "execution_count": null,
   "id": "74274fd3-49a9-4eb3-b0c0-4308225d2fe5",
   "metadata": {},
   "outputs": [],
   "source": []
  },
  {
   "cell_type": "code",
   "execution_count": null,
   "id": "2ace40eb-10f8-4ddd-9226-e3d2add66929",
   "metadata": {},
   "outputs": [],
   "source": []
  },
  {
   "cell_type": "code",
   "execution_count": null,
   "id": "527454d6-133f-444f-b3d6-6de3bef924f9",
   "metadata": {},
   "outputs": [],
   "source": []
  },
  {
   "cell_type": "code",
   "execution_count": null,
   "id": "9a8069c1-b4f1-4b6c-85f0-401cc1401e79",
   "metadata": {},
   "outputs": [],
   "source": []
  },
  {
   "cell_type": "code",
   "execution_count": null,
   "id": "f2683cba-7248-4f6a-b862-210b3f107c2e",
   "metadata": {},
   "outputs": [],
   "source": []
  },
  {
   "cell_type": "code",
   "execution_count": null,
   "id": "b91e0d7d-73cb-4894-9377-a824890cc829",
   "metadata": {},
   "outputs": [],
   "source": []
  },
  {
   "cell_type": "code",
   "execution_count": null,
   "id": "a6389b10-11f1-428b-85d9-a3396cc1314c",
   "metadata": {},
   "outputs": [],
   "source": []
  },
  {
   "cell_type": "code",
   "execution_count": null,
   "id": "5000a8b2-f51a-4880-b873-13f76dd64dde",
   "metadata": {},
   "outputs": [],
   "source": []
  },
  {
   "cell_type": "code",
   "execution_count": null,
   "id": "74c20c2a-72eb-444b-81b7-c9fa732c21d3",
   "metadata": {},
   "outputs": [],
   "source": []
  },
  {
   "cell_type": "code",
   "execution_count": null,
   "id": "10f32d41-ea20-4772-8839-963330ecdb97",
   "metadata": {},
   "outputs": [],
   "source": []
  },
  {
   "cell_type": "code",
   "execution_count": null,
   "id": "47259080-c081-4de4-9242-fef666781313",
   "metadata": {},
   "outputs": [],
   "source": []
  },
  {
   "cell_type": "code",
   "execution_count": null,
   "id": "5656f71e-9c99-4fa5-b238-e0577e3caab4",
   "metadata": {},
   "outputs": [],
   "source": []
  },
  {
   "cell_type": "code",
   "execution_count": null,
   "id": "ef63d50c-0301-45c0-8661-93034f3f881a",
   "metadata": {},
   "outputs": [],
   "source": []
  },
  {
   "cell_type": "code",
   "execution_count": null,
   "id": "27b442e3-60c3-433b-94ed-27745667a4b9",
   "metadata": {},
   "outputs": [],
   "source": []
  },
  {
   "cell_type": "code",
   "execution_count": null,
   "id": "341fe429-26ad-47c3-8a58-eb7a6738bb13",
   "metadata": {},
   "outputs": [],
   "source": []
  },
  {
   "cell_type": "code",
   "execution_count": null,
   "id": "e8722e71-fa7c-42eb-ac9e-9780160447e1",
   "metadata": {},
   "outputs": [],
   "source": []
  },
  {
   "cell_type": "code",
   "execution_count": null,
   "id": "55e85cf6-46e4-4061-9584-21c34c6608ab",
   "metadata": {},
   "outputs": [],
   "source": []
  },
  {
   "cell_type": "code",
   "execution_count": null,
   "id": "8769dc7e-2d2c-4c0d-86c9-7f3bd23394e6",
   "metadata": {},
   "outputs": [],
   "source": []
  },
  {
   "cell_type": "code",
   "execution_count": null,
   "id": "5939a483-3a71-4a85-a0f7-dcb1372a929c",
   "metadata": {},
   "outputs": [],
   "source": []
  },
  {
   "cell_type": "code",
   "execution_count": null,
   "id": "b190019b-5b2d-48a9-8387-0978c1c53fc2",
   "metadata": {},
   "outputs": [],
   "source": []
  },
  {
   "cell_type": "code",
   "execution_count": null,
   "id": "8bf6d038-3d29-4046-9d94-38ad80000146",
   "metadata": {},
   "outputs": [],
   "source": []
  },
  {
   "cell_type": "code",
   "execution_count": null,
   "id": "c1a33a1e-63f8-46e3-877a-d0ec5a043b82",
   "metadata": {},
   "outputs": [],
   "source": []
  },
  {
   "cell_type": "code",
   "execution_count": null,
   "id": "86919614-4291-41f4-83ed-e9a99841fc04",
   "metadata": {},
   "outputs": [],
   "source": []
  },
  {
   "cell_type": "code",
   "execution_count": null,
   "id": "a31a8c86-90d1-4fe9-9e76-b944314bf3bc",
   "metadata": {},
   "outputs": [],
   "source": []
  },
  {
   "cell_type": "code",
   "execution_count": null,
   "id": "6184a650-fc8d-4bbd-a0cd-e03020700366",
   "metadata": {},
   "outputs": [],
   "source": []
  },
  {
   "cell_type": "code",
   "execution_count": null,
   "id": "5d8a0cf4-9158-4955-8be6-94c1c398b06c",
   "metadata": {},
   "outputs": [],
   "source": []
  },
  {
   "cell_type": "code",
   "execution_count": null,
   "id": "08d7f616-91da-45c3-b5f2-e0d185ed958d",
   "metadata": {},
   "outputs": [],
   "source": []
  },
  {
   "cell_type": "code",
   "execution_count": null,
   "id": "12bbbdf9-a7ff-40cd-9fa4-bfae94f70742",
   "metadata": {},
   "outputs": [],
   "source": []
  },
  {
   "cell_type": "code",
   "execution_count": null,
   "id": "57f0b5ec-5261-44c6-8d4c-d75ae5dcb602",
   "metadata": {},
   "outputs": [],
   "source": []
  },
  {
   "cell_type": "code",
   "execution_count": null,
   "id": "2c6466b0-4b94-45ae-89ef-0df8ff3b7a5e",
   "metadata": {},
   "outputs": [],
   "source": []
  },
  {
   "cell_type": "code",
   "execution_count": null,
   "id": "7a57b8a0-1d35-4c1b-9897-c13d2c22c706",
   "metadata": {},
   "outputs": [],
   "source": []
  },
  {
   "cell_type": "code",
   "execution_count": null,
   "id": "11f70d03-b85a-475b-a1aa-1cbc00a9fa36",
   "metadata": {},
   "outputs": [],
   "source": []
  },
  {
   "cell_type": "code",
   "execution_count": null,
   "id": "d6896a88-7f0e-4407-84ad-1dfd3e18f968",
   "metadata": {},
   "outputs": [],
   "source": []
  },
  {
   "cell_type": "code",
   "execution_count": null,
   "id": "3f734289-1871-4673-9b0d-bfca36ad7c96",
   "metadata": {},
   "outputs": [],
   "source": []
  },
  {
   "cell_type": "code",
   "execution_count": null,
   "id": "c42f5e1e-b358-4a27-a5e6-7ab4b22eeb2f",
   "metadata": {},
   "outputs": [],
   "source": []
  },
  {
   "cell_type": "code",
   "execution_count": null,
   "id": "017dfd02-39df-49d6-80b0-e0cc93b3e21b",
   "metadata": {},
   "outputs": [],
   "source": []
  },
  {
   "cell_type": "code",
   "execution_count": null,
   "id": "5fd88a02-9617-49b4-8223-7237f7788430",
   "metadata": {},
   "outputs": [],
   "source": []
  },
  {
   "cell_type": "code",
   "execution_count": null,
   "id": "c133c0d1-f69b-4a46-b710-b2da6b46638e",
   "metadata": {},
   "outputs": [],
   "source": []
  },
  {
   "cell_type": "code",
   "execution_count": null,
   "id": "64d66be7-5b3c-41db-8bfa-989d33d4b38a",
   "metadata": {},
   "outputs": [],
   "source": []
  },
  {
   "cell_type": "code",
   "execution_count": null,
   "id": "a8450ccc-5996-4bca-8237-d3b3f654cf53",
   "metadata": {},
   "outputs": [],
   "source": []
  },
  {
   "cell_type": "code",
   "execution_count": null,
   "id": "22219f22-dc08-4807-b25e-4e0f02fe2299",
   "metadata": {},
   "outputs": [],
   "source": []
  },
  {
   "cell_type": "code",
   "execution_count": null,
   "id": "845fbf02-fa90-4991-bec7-5d954663cfb0",
   "metadata": {},
   "outputs": [],
   "source": []
  },
  {
   "cell_type": "code",
   "execution_count": null,
   "id": "357df5cc-8b8f-4d9f-89f4-637f9005d89b",
   "metadata": {},
   "outputs": [],
   "source": []
  },
  {
   "cell_type": "code",
   "execution_count": null,
   "id": "ed39803a-95df-4e0d-bfcf-01d2baba6f0d",
   "metadata": {},
   "outputs": [],
   "source": []
  },
  {
   "cell_type": "code",
   "execution_count": null,
   "id": "2f32f513-ea60-4479-8813-a596334629f3",
   "metadata": {},
   "outputs": [],
   "source": []
  },
  {
   "cell_type": "code",
   "execution_count": null,
   "id": "e97a73df-de0c-416a-b4af-6f8e5009842e",
   "metadata": {},
   "outputs": [],
   "source": []
  },
  {
   "cell_type": "code",
   "execution_count": null,
   "id": "2f9bec31-4425-48ba-a9e0-f90c60d11fa9",
   "metadata": {},
   "outputs": [],
   "source": []
  },
  {
   "cell_type": "code",
   "execution_count": null,
   "id": "1ff2a3c7-b6cb-44a9-8171-edaa956def41",
   "metadata": {},
   "outputs": [],
   "source": []
  },
  {
   "cell_type": "code",
   "execution_count": null,
   "id": "e0bfa4c8-4d3d-4744-8d02-5e2c1c7c1a7d",
   "metadata": {},
   "outputs": [],
   "source": []
  },
  {
   "cell_type": "code",
   "execution_count": null,
   "id": "71b3a863-4108-4c21-8793-83076ed7433c",
   "metadata": {},
   "outputs": [],
   "source": []
  },
  {
   "cell_type": "code",
   "execution_count": null,
   "id": "2cef3600-3bd6-4850-bf9d-3366311d0dbc",
   "metadata": {},
   "outputs": [],
   "source": []
  },
  {
   "cell_type": "code",
   "execution_count": null,
   "id": "75800d2e-4cdf-44dc-9830-ee39ce8eb019",
   "metadata": {},
   "outputs": [],
   "source": []
  },
  {
   "cell_type": "code",
   "execution_count": null,
   "id": "82ae9b23-ac49-4274-95ea-a19926775e6d",
   "metadata": {},
   "outputs": [],
   "source": []
  },
  {
   "cell_type": "code",
   "execution_count": null,
   "id": "a052e762-489f-4b4e-8a67-97cca7fb188a",
   "metadata": {},
   "outputs": [],
   "source": []
  },
  {
   "cell_type": "code",
   "execution_count": null,
   "id": "d7c8dda7-2b9f-453f-89d4-752adbb0c4ea",
   "metadata": {},
   "outputs": [],
   "source": []
  },
  {
   "cell_type": "code",
   "execution_count": null,
   "id": "5708d491-7b63-4891-860b-960b3f1825e2",
   "metadata": {},
   "outputs": [],
   "source": []
  },
  {
   "cell_type": "code",
   "execution_count": null,
   "id": "b804a4c6-d77c-4479-b4f5-95a367ff798f",
   "metadata": {},
   "outputs": [],
   "source": []
  },
  {
   "cell_type": "code",
   "execution_count": null,
   "id": "5f3244e9-abfe-4074-a679-40ed59f0d3a8",
   "metadata": {},
   "outputs": [],
   "source": []
  },
  {
   "cell_type": "code",
   "execution_count": null,
   "id": "351e88bc-60e2-4386-a139-4bd002e5833b",
   "metadata": {},
   "outputs": [],
   "source": []
  },
  {
   "cell_type": "code",
   "execution_count": null,
   "id": "d5bc8534-5e49-430f-96da-323bdcf0f628",
   "metadata": {},
   "outputs": [],
   "source": []
  },
  {
   "cell_type": "code",
   "execution_count": null,
   "id": "7e4398e7-2fdf-4b03-896a-fdb830bc253d",
   "metadata": {},
   "outputs": [],
   "source": []
  },
  {
   "cell_type": "code",
   "execution_count": null,
   "id": "2c4f0304-08ac-4fb8-a4b9-475d6213f55f",
   "metadata": {},
   "outputs": [],
   "source": []
  },
  {
   "cell_type": "code",
   "execution_count": null,
   "id": "09c0c190-86ef-4900-9baa-3b4cc12a3b79",
   "metadata": {},
   "outputs": [],
   "source": []
  },
  {
   "cell_type": "code",
   "execution_count": null,
   "id": "391c239e-1c57-45f6-9bbb-cc22bb778c7d",
   "metadata": {},
   "outputs": [],
   "source": []
  },
  {
   "cell_type": "code",
   "execution_count": null,
   "id": "ad49e008-5838-40b3-b6f5-3c6cbad6be62",
   "metadata": {},
   "outputs": [],
   "source": []
  },
  {
   "cell_type": "code",
   "execution_count": null,
   "id": "1cb5c618-ea9e-4e05-b940-de411b482c49",
   "metadata": {},
   "outputs": [],
   "source": []
  },
  {
   "cell_type": "code",
   "execution_count": null,
   "id": "1b1b6599-2357-40fe-a339-a4f8c84e079c",
   "metadata": {},
   "outputs": [],
   "source": []
  },
  {
   "cell_type": "code",
   "execution_count": null,
   "id": "fe1fb0ec-aecf-438d-a959-689bee5f2327",
   "metadata": {},
   "outputs": [],
   "source": []
  },
  {
   "cell_type": "code",
   "execution_count": null,
   "id": "e20a5df6-78c5-451b-8cd4-1357b0e84b04",
   "metadata": {},
   "outputs": [],
   "source": []
  },
  {
   "cell_type": "code",
   "execution_count": null,
   "id": "2c9925d5-779e-4812-9b5b-ec727122a746",
   "metadata": {},
   "outputs": [],
   "source": []
  },
  {
   "cell_type": "code",
   "execution_count": null,
   "id": "2123b17b-aebf-429a-aeb1-9f4dd0861668",
   "metadata": {},
   "outputs": [],
   "source": []
  },
  {
   "cell_type": "code",
   "execution_count": null,
   "id": "ffd2e741-f3a3-4fa7-a2c5-c2321887858e",
   "metadata": {},
   "outputs": [],
   "source": []
  },
  {
   "cell_type": "code",
   "execution_count": null,
   "id": "b0dacdab-82c3-444c-8563-dba12eb680ab",
   "metadata": {},
   "outputs": [],
   "source": []
  },
  {
   "cell_type": "code",
   "execution_count": null,
   "id": "c9ce31fc-80fc-484f-9456-5d620f87e086",
   "metadata": {},
   "outputs": [],
   "source": []
  },
  {
   "cell_type": "code",
   "execution_count": null,
   "id": "4083a218-1af3-4ed5-914f-3190bc6318ac",
   "metadata": {},
   "outputs": [],
   "source": []
  },
  {
   "cell_type": "code",
   "execution_count": null,
   "id": "8b7c3598-fb46-4a25-9b64-178af34153da",
   "metadata": {},
   "outputs": [],
   "source": []
  },
  {
   "cell_type": "code",
   "execution_count": null,
   "id": "c0e60fe2-c9df-455b-964e-78b663932947",
   "metadata": {},
   "outputs": [],
   "source": []
  },
  {
   "cell_type": "code",
   "execution_count": null,
   "id": "3073c0f3-0c14-4b20-ad78-b2d0dc713115",
   "metadata": {},
   "outputs": [],
   "source": []
  },
  {
   "cell_type": "code",
   "execution_count": null,
   "id": "84427c3e-94db-420c-adbb-2cdc4c04d333",
   "metadata": {},
   "outputs": [],
   "source": []
  },
  {
   "cell_type": "code",
   "execution_count": null,
   "id": "1c08d915-d000-48e5-b474-978066636116",
   "metadata": {},
   "outputs": [],
   "source": []
  },
  {
   "cell_type": "code",
   "execution_count": null,
   "id": "1c2001a9-3b15-4d3c-847d-df44666ed236",
   "metadata": {},
   "outputs": [],
   "source": []
  },
  {
   "cell_type": "code",
   "execution_count": null,
   "id": "71bac5f0-bf7d-4ec5-866e-03f47e6ae1eb",
   "metadata": {},
   "outputs": [],
   "source": []
  },
  {
   "cell_type": "code",
   "execution_count": null,
   "id": "fb71936c-4215-4b37-b902-a6fc039f5b77",
   "metadata": {},
   "outputs": [],
   "source": []
  },
  {
   "cell_type": "code",
   "execution_count": null,
   "id": "95da9564-ddfd-4919-88b2-bad57fb04aef",
   "metadata": {},
   "outputs": [],
   "source": []
  },
  {
   "cell_type": "code",
   "execution_count": null,
   "id": "c8476844-f660-4fa2-83a7-0e81c5b97a49",
   "metadata": {},
   "outputs": [],
   "source": []
  },
  {
   "cell_type": "code",
   "execution_count": null,
   "id": "b47dbb00-1ba9-44e7-b937-6ad66bfba778",
   "metadata": {},
   "outputs": [],
   "source": []
  },
  {
   "cell_type": "code",
   "execution_count": null,
   "id": "60a40556-92e5-4aae-8bde-8db71be36a53",
   "metadata": {},
   "outputs": [],
   "source": []
  },
  {
   "cell_type": "code",
   "execution_count": null,
   "id": "00123718-5f31-40ce-8dd4-e5bca05510a8",
   "metadata": {},
   "outputs": [],
   "source": []
  },
  {
   "cell_type": "code",
   "execution_count": null,
   "id": "055f4859-9063-4b36-8212-7b487c73358d",
   "metadata": {},
   "outputs": [],
   "source": []
  },
  {
   "cell_type": "code",
   "execution_count": null,
   "id": "0c238075-92df-4e3a-948a-b575fb6e9656",
   "metadata": {},
   "outputs": [],
   "source": []
  },
  {
   "cell_type": "code",
   "execution_count": null,
   "id": "8816e0f7-a43f-4cc3-9ec3-9217dd53ae98",
   "metadata": {},
   "outputs": [],
   "source": []
  },
  {
   "cell_type": "code",
   "execution_count": null,
   "id": "d681b79e-0df5-417a-b86c-c997f0e755ec",
   "metadata": {},
   "outputs": [],
   "source": []
  },
  {
   "cell_type": "code",
   "execution_count": null,
   "id": "ac7e242f-bcd1-4505-9426-4923e99e9dc3",
   "metadata": {},
   "outputs": [],
   "source": []
  },
  {
   "cell_type": "code",
   "execution_count": null,
   "id": "ff7b7660-f196-43e4-ba5b-b79f21b709cd",
   "metadata": {},
   "outputs": [],
   "source": []
  },
  {
   "cell_type": "code",
   "execution_count": null,
   "id": "8a96bc13-28e6-4069-bfa5-bc3ee04fec89",
   "metadata": {},
   "outputs": [],
   "source": []
  },
  {
   "cell_type": "code",
   "execution_count": null,
   "id": "077530a9-67d8-42c0-851a-b91e34eeb69f",
   "metadata": {},
   "outputs": [],
   "source": []
  },
  {
   "cell_type": "code",
   "execution_count": null,
   "id": "43699ea3-36c6-4a83-9502-22e68a107b0d",
   "metadata": {},
   "outputs": [],
   "source": []
  },
  {
   "cell_type": "code",
   "execution_count": null,
   "id": "99358b4e-99b2-45e3-9273-164c517bbc58",
   "metadata": {},
   "outputs": [],
   "source": []
  },
  {
   "cell_type": "code",
   "execution_count": null,
   "id": "65afa14d-ad98-4a69-a1be-4384948fea6b",
   "metadata": {},
   "outputs": [],
   "source": []
  },
  {
   "cell_type": "code",
   "execution_count": null,
   "id": "bbae9483-1f7a-45da-9cff-8e8396bf1073",
   "metadata": {},
   "outputs": [],
   "source": []
  },
  {
   "cell_type": "code",
   "execution_count": null,
   "id": "054371df-d15d-4105-823c-18b06546d294",
   "metadata": {},
   "outputs": [],
   "source": []
  },
  {
   "cell_type": "code",
   "execution_count": null,
   "id": "8e0d1988-7b01-43ba-a130-a5c463314ecb",
   "metadata": {},
   "outputs": [],
   "source": []
  },
  {
   "cell_type": "code",
   "execution_count": null,
   "id": "79d6e73e-e1f0-4359-8597-1b20af3d34c4",
   "metadata": {},
   "outputs": [],
   "source": []
  },
  {
   "cell_type": "code",
   "execution_count": null,
   "id": "2756b79b-bc87-4b2b-ac2f-7621ad9af7fa",
   "metadata": {},
   "outputs": [],
   "source": []
  },
  {
   "cell_type": "code",
   "execution_count": null,
   "id": "c2116fed-70fd-4d0d-9de6-1d20b024dee3",
   "metadata": {},
   "outputs": [],
   "source": []
  },
  {
   "cell_type": "code",
   "execution_count": null,
   "id": "07e68376-dc99-4bcc-af5e-f7bae9724f0f",
   "metadata": {},
   "outputs": [],
   "source": []
  },
  {
   "cell_type": "code",
   "execution_count": null,
   "id": "52535672-1953-4e38-bb99-7d2326f715d4",
   "metadata": {},
   "outputs": [],
   "source": []
  },
  {
   "cell_type": "code",
   "execution_count": null,
   "id": "a5941a82-f554-4039-a6fc-906c17ed794b",
   "metadata": {},
   "outputs": [],
   "source": []
  },
  {
   "cell_type": "code",
   "execution_count": null,
   "id": "da6030a4-7f6e-45a4-a609-80abb79c6612",
   "metadata": {},
   "outputs": [],
   "source": []
  },
  {
   "cell_type": "code",
   "execution_count": null,
   "id": "0d07ee38-d20f-4be4-a891-e83d153a19f3",
   "metadata": {},
   "outputs": [],
   "source": []
  },
  {
   "cell_type": "code",
   "execution_count": null,
   "id": "22fa399c-0649-4e2d-9284-77988a27b499",
   "metadata": {},
   "outputs": [],
   "source": []
  },
  {
   "cell_type": "code",
   "execution_count": null,
   "id": "a47c1384-e882-418a-ab34-c9d8f450b0e0",
   "metadata": {},
   "outputs": [],
   "source": []
  },
  {
   "cell_type": "code",
   "execution_count": null,
   "id": "0f9149a5-e34f-4f37-8025-ac5ff052d032",
   "metadata": {},
   "outputs": [],
   "source": []
  },
  {
   "cell_type": "code",
   "execution_count": null,
   "id": "3862b55d-49cf-496e-bebe-447d3cceea31",
   "metadata": {},
   "outputs": [],
   "source": []
  },
  {
   "cell_type": "code",
   "execution_count": null,
   "id": "c673017d-da37-41bd-8617-e8377dd8c1c2",
   "metadata": {},
   "outputs": [],
   "source": []
  },
  {
   "cell_type": "code",
   "execution_count": null,
   "id": "0142fd73-0467-499c-88a1-453b3d6ad83f",
   "metadata": {},
   "outputs": [],
   "source": []
  },
  {
   "cell_type": "code",
   "execution_count": null,
   "id": "6f83a319-c6fd-4334-a855-df1f24fd78dc",
   "metadata": {},
   "outputs": [],
   "source": []
  },
  {
   "cell_type": "code",
   "execution_count": null,
   "id": "9783310d-675a-4d04-a1b6-f7e00e714f80",
   "metadata": {},
   "outputs": [],
   "source": []
  },
  {
   "cell_type": "code",
   "execution_count": null,
   "id": "2a878c98-35fd-4c94-9614-6eec680527f8",
   "metadata": {},
   "outputs": [],
   "source": []
  },
  {
   "cell_type": "code",
   "execution_count": null,
   "id": "c25ae871-3ecb-4731-bd5e-39481870c3df",
   "metadata": {},
   "outputs": [],
   "source": []
  },
  {
   "cell_type": "code",
   "execution_count": null,
   "id": "34970840-eed1-4686-993e-45e7b4b35948",
   "metadata": {},
   "outputs": [],
   "source": []
  },
  {
   "cell_type": "code",
   "execution_count": null,
   "id": "dd798ffc-6f84-4477-b405-df75285b7095",
   "metadata": {},
   "outputs": [],
   "source": []
  },
  {
   "cell_type": "code",
   "execution_count": null,
   "id": "ab7423a2-4346-49f7-8d31-7b3ad3cd3949",
   "metadata": {},
   "outputs": [],
   "source": []
  },
  {
   "cell_type": "code",
   "execution_count": null,
   "id": "e5164b63-1114-41f0-99e4-d02cc2d54340",
   "metadata": {},
   "outputs": [],
   "source": []
  },
  {
   "cell_type": "code",
   "execution_count": null,
   "id": "0c227143-16eb-41b8-ac34-2c533480da0b",
   "metadata": {},
   "outputs": [],
   "source": []
  },
  {
   "cell_type": "code",
   "execution_count": null,
   "id": "eaa83506-0c37-4a08-b299-911d28374fdd",
   "metadata": {},
   "outputs": [],
   "source": []
  },
  {
   "cell_type": "code",
   "execution_count": null,
   "id": "e11dccda-ba8a-4ec7-9b54-590eb3d05b33",
   "metadata": {},
   "outputs": [],
   "source": []
  },
  {
   "cell_type": "code",
   "execution_count": null,
   "id": "fb247120-7300-4b96-ad11-14e43c0a9a67",
   "metadata": {},
   "outputs": [],
   "source": []
  },
  {
   "cell_type": "code",
   "execution_count": null,
   "id": "518eb815-56df-4963-b461-517365759b13",
   "metadata": {},
   "outputs": [],
   "source": []
  },
  {
   "cell_type": "code",
   "execution_count": null,
   "id": "b362f670-8c2b-4609-b921-5426e9e537d8",
   "metadata": {},
   "outputs": [],
   "source": []
  },
  {
   "cell_type": "code",
   "execution_count": null,
   "id": "47366cc6-7aa2-4cf7-a3b6-3d003476ec55",
   "metadata": {},
   "outputs": [],
   "source": []
  },
  {
   "cell_type": "code",
   "execution_count": null,
   "id": "8413417f-863a-441c-aa85-b0d15dfc8d1d",
   "metadata": {},
   "outputs": [],
   "source": []
  },
  {
   "cell_type": "code",
   "execution_count": null,
   "id": "23d2d918-22a4-4be8-8454-a26b678c8fe7",
   "metadata": {},
   "outputs": [],
   "source": []
  },
  {
   "cell_type": "code",
   "execution_count": null,
   "id": "59de2268-d58c-443a-ac10-bcca457b9a4c",
   "metadata": {},
   "outputs": [],
   "source": []
  },
  {
   "cell_type": "code",
   "execution_count": null,
   "id": "451ec156-46e6-46a5-9028-3cd2bef775c6",
   "metadata": {},
   "outputs": [],
   "source": []
  },
  {
   "cell_type": "code",
   "execution_count": null,
   "id": "5a8c7a41-8394-4237-ab49-dce9105e97f4",
   "metadata": {},
   "outputs": [],
   "source": []
  },
  {
   "cell_type": "code",
   "execution_count": null,
   "id": "c9154f5b-8043-4adb-b126-424b2b095b75",
   "metadata": {},
   "outputs": [],
   "source": []
  },
  {
   "cell_type": "code",
   "execution_count": null,
   "id": "cd323000-2611-429c-9e10-0bb9f7bc96fe",
   "metadata": {},
   "outputs": [],
   "source": []
  },
  {
   "cell_type": "code",
   "execution_count": null,
   "id": "1cb1bc2c-4d5d-458d-b9b5-1668598bbaa5",
   "metadata": {},
   "outputs": [],
   "source": []
  },
  {
   "cell_type": "code",
   "execution_count": null,
   "id": "3dd257a5-d7ea-4513-928b-03425e286f3e",
   "metadata": {},
   "outputs": [],
   "source": []
  },
  {
   "cell_type": "code",
   "execution_count": null,
   "id": "1c245b77-d731-477a-aede-21d699e75f6f",
   "metadata": {},
   "outputs": [],
   "source": []
  },
  {
   "cell_type": "code",
   "execution_count": null,
   "id": "f3e845eb-660b-4840-b510-30b98d92f1e6",
   "metadata": {},
   "outputs": [],
   "source": []
  },
  {
   "cell_type": "code",
   "execution_count": null,
   "id": "3d22cbfa-11c6-4409-9b46-d2e054516d6e",
   "metadata": {},
   "outputs": [],
   "source": []
  },
  {
   "cell_type": "code",
   "execution_count": null,
   "id": "e02e102d-8a28-46ae-ba67-cb66e9c2f4be",
   "metadata": {},
   "outputs": [],
   "source": []
  },
  {
   "cell_type": "code",
   "execution_count": null,
   "id": "143422f3-de55-4e4c-86d3-02bf292df03c",
   "metadata": {},
   "outputs": [],
   "source": []
  },
  {
   "cell_type": "code",
   "execution_count": null,
   "id": "8c0d2565-db65-4959-b1d7-6acc344c5e64",
   "metadata": {},
   "outputs": [],
   "source": []
  },
  {
   "cell_type": "code",
   "execution_count": null,
   "id": "c0c25489-f096-46b1-b259-5b97a619fbce",
   "metadata": {},
   "outputs": [],
   "source": []
  },
  {
   "cell_type": "code",
   "execution_count": null,
   "id": "7c9dcf69-e05f-48ac-8e44-732864a8f28b",
   "metadata": {},
   "outputs": [],
   "source": []
  },
  {
   "cell_type": "code",
   "execution_count": null,
   "id": "a746a8ad-c285-4739-80da-01474d0f3409",
   "metadata": {},
   "outputs": [],
   "source": []
  },
  {
   "cell_type": "code",
   "execution_count": null,
   "id": "300b36be-de7c-4e5a-9444-8ef5d5f6a6d5",
   "metadata": {},
   "outputs": [],
   "source": []
  },
  {
   "cell_type": "code",
   "execution_count": null,
   "id": "43ebedd6-6c84-48c2-94be-a95aed8a8660",
   "metadata": {},
   "outputs": [],
   "source": []
  },
  {
   "cell_type": "code",
   "execution_count": null,
   "id": "543cc24f-d4ed-41ac-9753-e1ab07aee5ac",
   "metadata": {},
   "outputs": [],
   "source": []
  },
  {
   "cell_type": "code",
   "execution_count": null,
   "id": "257b276b-e8fd-4727-beb3-354017713e7a",
   "metadata": {},
   "outputs": [],
   "source": []
  },
  {
   "cell_type": "code",
   "execution_count": null,
   "id": "ca5a1568-9c3f-4442-ab48-cdc1e003ad99",
   "metadata": {},
   "outputs": [],
   "source": []
  },
  {
   "cell_type": "code",
   "execution_count": null,
   "id": "27bb12e0-88ac-4e8d-919f-d2c103e01af7",
   "metadata": {},
   "outputs": [],
   "source": []
  },
  {
   "cell_type": "code",
   "execution_count": null,
   "id": "9a21fc3d-540d-4ff6-836e-7bfbc6ced2e6",
   "metadata": {},
   "outputs": [],
   "source": []
  },
  {
   "cell_type": "code",
   "execution_count": null,
   "id": "d82f07c7-7463-4f26-9e9f-e87d0b1a7746",
   "metadata": {},
   "outputs": [],
   "source": []
  },
  {
   "cell_type": "code",
   "execution_count": null,
   "id": "a43b1d40-1aeb-4029-b4ef-264b57c6af92",
   "metadata": {},
   "outputs": [],
   "source": []
  },
  {
   "cell_type": "code",
   "execution_count": null,
   "id": "b4a9fb8a-2883-4bec-bc37-b03f26b1ec17",
   "metadata": {},
   "outputs": [],
   "source": []
  },
  {
   "cell_type": "code",
   "execution_count": null,
   "id": "2cfb2ddc-7350-4f98-9a20-4e929473cfed",
   "metadata": {},
   "outputs": [],
   "source": []
  },
  {
   "cell_type": "code",
   "execution_count": null,
   "id": "50d5d17b-b6de-47f9-97e6-77fc50641598",
   "metadata": {},
   "outputs": [],
   "source": []
  },
  {
   "cell_type": "code",
   "execution_count": null,
   "id": "3c45d2cd-9f30-4e70-b061-53a50756a60e",
   "metadata": {},
   "outputs": [],
   "source": []
  },
  {
   "cell_type": "code",
   "execution_count": null,
   "id": "ce57f393-c19f-4596-8dfa-f7005ea3094d",
   "metadata": {},
   "outputs": [],
   "source": []
  },
  {
   "cell_type": "code",
   "execution_count": null,
   "id": "fac5dc95-3e24-4708-9aa9-33dd1bed5f62",
   "metadata": {},
   "outputs": [],
   "source": []
  },
  {
   "cell_type": "code",
   "execution_count": null,
   "id": "e56a5969-68fd-42ca-b919-5196f35d2809",
   "metadata": {},
   "outputs": [],
   "source": []
  },
  {
   "cell_type": "code",
   "execution_count": null,
   "id": "832e8bb1-ced7-4e27-a398-fdc37ecdb455",
   "metadata": {},
   "outputs": [],
   "source": []
  },
  {
   "cell_type": "code",
   "execution_count": null,
   "id": "b9362cd9-c8b8-46bb-8112-188edea073b7",
   "metadata": {},
   "outputs": [],
   "source": []
  },
  {
   "cell_type": "code",
   "execution_count": null,
   "id": "12743c75-00c6-47a6-a0fd-15981c547669",
   "metadata": {},
   "outputs": [],
   "source": []
  },
  {
   "cell_type": "code",
   "execution_count": null,
   "id": "ab6e8a34-a783-40c5-a9d4-859d5c134d28",
   "metadata": {},
   "outputs": [],
   "source": []
  },
  {
   "cell_type": "code",
   "execution_count": null,
   "id": "24cdc9ac-2f98-433f-ab04-482cd180c65d",
   "metadata": {},
   "outputs": [],
   "source": []
  },
  {
   "cell_type": "code",
   "execution_count": null,
   "id": "8880a789-f96f-4fcd-8b1d-ba11c883d9ec",
   "metadata": {},
   "outputs": [],
   "source": []
  },
  {
   "cell_type": "code",
   "execution_count": null,
   "id": "95128b93-cead-4fe2-9dd6-d7b782dffd38",
   "metadata": {},
   "outputs": [],
   "source": []
  },
  {
   "cell_type": "code",
   "execution_count": null,
   "id": "eafcb379-11ab-4038-8b43-019f67ea92c3",
   "metadata": {},
   "outputs": [],
   "source": []
  },
  {
   "cell_type": "code",
   "execution_count": null,
   "id": "82f48224-0b6e-49ce-bcac-e1ebd6d595e9",
   "metadata": {},
   "outputs": [],
   "source": []
  },
  {
   "cell_type": "code",
   "execution_count": null,
   "id": "74e48d16-2eb2-4a03-880f-c1fe67da263f",
   "metadata": {},
   "outputs": [],
   "source": []
  },
  {
   "cell_type": "code",
   "execution_count": null,
   "id": "56765d6b-94fb-44f8-bf74-2a2074019b09",
   "metadata": {},
   "outputs": [],
   "source": []
  },
  {
   "cell_type": "code",
   "execution_count": null,
   "id": "3fb96465-9d89-411e-aa34-fd72c0065fc8",
   "metadata": {},
   "outputs": [],
   "source": []
  },
  {
   "cell_type": "code",
   "execution_count": null,
   "id": "278d2e0e-fe4f-4be4-95a4-eb26c1712c5b",
   "metadata": {},
   "outputs": [],
   "source": []
  },
  {
   "cell_type": "code",
   "execution_count": null,
   "id": "10e6ed4d-16a7-4eaf-930b-97f13b3fe75b",
   "metadata": {},
   "outputs": [],
   "source": []
  },
  {
   "cell_type": "code",
   "execution_count": null,
   "id": "a5cff35d-5f16-4010-96bb-33246f1ef9a8",
   "metadata": {},
   "outputs": [],
   "source": []
  },
  {
   "cell_type": "code",
   "execution_count": null,
   "id": "cc2ccd56-8944-401f-af9b-cd1efab25c76",
   "metadata": {},
   "outputs": [],
   "source": []
  },
  {
   "cell_type": "code",
   "execution_count": null,
   "id": "206edee4-ae9c-48c1-b8f5-7eafcbd78f4e",
   "metadata": {},
   "outputs": [],
   "source": []
  },
  {
   "cell_type": "code",
   "execution_count": null,
   "id": "438eef2b-ae3e-48a5-b543-6a7e68dcbe2a",
   "metadata": {},
   "outputs": [],
   "source": []
  },
  {
   "cell_type": "code",
   "execution_count": null,
   "id": "1ae21c0f-7826-4b60-a62a-152c8724ed31",
   "metadata": {},
   "outputs": [],
   "source": []
  },
  {
   "cell_type": "code",
   "execution_count": null,
   "id": "f387a601-c073-4d80-8923-bdc5c825c191",
   "metadata": {},
   "outputs": [],
   "source": []
  },
  {
   "cell_type": "code",
   "execution_count": null,
   "id": "6215781d-fd3a-4491-a47d-76f12b39d183",
   "metadata": {},
   "outputs": [],
   "source": []
  },
  {
   "cell_type": "code",
   "execution_count": null,
   "id": "aa8604b4-e264-4ccb-99ce-50c3ae835b16",
   "metadata": {},
   "outputs": [],
   "source": []
  },
  {
   "cell_type": "code",
   "execution_count": null,
   "id": "0f802f4a-0ad6-41f5-8a07-a36f945ad5c1",
   "metadata": {},
   "outputs": [],
   "source": []
  },
  {
   "cell_type": "code",
   "execution_count": null,
   "id": "4c56e46e-0898-4c08-8086-d07dc8949202",
   "metadata": {},
   "outputs": [],
   "source": []
  },
  {
   "cell_type": "code",
   "execution_count": null,
   "id": "198c458d-d227-4261-9fc6-0b62bcb1908b",
   "metadata": {},
   "outputs": [],
   "source": []
  },
  {
   "cell_type": "code",
   "execution_count": null,
   "id": "4a2aafd0-2065-4ae8-a2be-ec0fec5b6499",
   "metadata": {},
   "outputs": [],
   "source": []
  },
  {
   "cell_type": "code",
   "execution_count": null,
   "id": "4c79739e-afed-41ca-9a4d-e6b411a2b804",
   "metadata": {},
   "outputs": [],
   "source": []
  },
  {
   "cell_type": "code",
   "execution_count": null,
   "id": "571cdaab-7768-499a-9475-85832633c9b4",
   "metadata": {},
   "outputs": [],
   "source": []
  },
  {
   "cell_type": "code",
   "execution_count": null,
   "id": "8faad207-94db-482d-800c-eba10fdccc9c",
   "metadata": {},
   "outputs": [],
   "source": []
  },
  {
   "cell_type": "code",
   "execution_count": null,
   "id": "debef60e-e91c-4186-93f6-384e0b823a2d",
   "metadata": {},
   "outputs": [],
   "source": []
  },
  {
   "cell_type": "code",
   "execution_count": null,
   "id": "96b864ff-2b71-4315-8254-24e275ed10e0",
   "metadata": {},
   "outputs": [],
   "source": []
  },
  {
   "cell_type": "code",
   "execution_count": null,
   "id": "27729b00-cbbc-427e-a440-3af630716fa4",
   "metadata": {},
   "outputs": [],
   "source": []
  },
  {
   "cell_type": "code",
   "execution_count": null,
   "id": "0357d6ca-6f5e-4f01-8e76-670f477d1575",
   "metadata": {},
   "outputs": [],
   "source": []
  },
  {
   "cell_type": "code",
   "execution_count": null,
   "id": "e1fe8d47-16cc-4669-898e-96da3e431439",
   "metadata": {},
   "outputs": [],
   "source": []
  },
  {
   "cell_type": "code",
   "execution_count": null,
   "id": "9f9f759d-2e84-4d40-819f-bb11d4bbc2db",
   "metadata": {},
   "outputs": [],
   "source": []
  },
  {
   "cell_type": "code",
   "execution_count": null,
   "id": "25de77a1-5b8f-451e-b81a-b79880c2b2f5",
   "metadata": {},
   "outputs": [],
   "source": []
  },
  {
   "cell_type": "code",
   "execution_count": null,
   "id": "b8bd9053-973a-492f-bc29-6c4fec9d98d4",
   "metadata": {},
   "outputs": [],
   "source": []
  },
  {
   "cell_type": "code",
   "execution_count": null,
   "id": "e81f14d5-72ee-4c42-8fee-119da5d66c8b",
   "metadata": {},
   "outputs": [],
   "source": []
  },
  {
   "cell_type": "code",
   "execution_count": null,
   "id": "911d8a1f-1e6f-4653-83d7-8430c1de0baf",
   "metadata": {},
   "outputs": [],
   "source": []
  },
  {
   "cell_type": "code",
   "execution_count": null,
   "id": "20fa0d55-3b2b-4b54-875b-9c824c67c753",
   "metadata": {},
   "outputs": [],
   "source": []
  },
  {
   "cell_type": "code",
   "execution_count": null,
   "id": "aad36446-0d9a-487e-9307-c2c8e1cc7046",
   "metadata": {},
   "outputs": [],
   "source": []
  },
  {
   "cell_type": "code",
   "execution_count": null,
   "id": "cbcadb19-b118-44cb-b3c9-f638a18bd809",
   "metadata": {},
   "outputs": [],
   "source": []
  },
  {
   "cell_type": "code",
   "execution_count": null,
   "id": "a36e696d-4372-4cf3-bbbd-5c43109f6bc5",
   "metadata": {},
   "outputs": [],
   "source": []
  },
  {
   "cell_type": "code",
   "execution_count": null,
   "id": "a89b99fb-d3e9-4550-9d8a-439837456126",
   "metadata": {},
   "outputs": [],
   "source": []
  },
  {
   "cell_type": "code",
   "execution_count": null,
   "id": "63a8fd34-18cb-4dec-8ffa-65ce994b004f",
   "metadata": {},
   "outputs": [],
   "source": []
  },
  {
   "cell_type": "code",
   "execution_count": null,
   "id": "36fa1001-9c46-435b-ad3e-2f5b5feee8f5",
   "metadata": {},
   "outputs": [],
   "source": []
  },
  {
   "cell_type": "code",
   "execution_count": null,
   "id": "c4203827-a63b-4e0b-9547-ebd787f3b870",
   "metadata": {},
   "outputs": [],
   "source": []
  },
  {
   "cell_type": "code",
   "execution_count": null,
   "id": "cf1805ae-fac0-42eb-bea9-f7e52af3103b",
   "metadata": {},
   "outputs": [],
   "source": []
  },
  {
   "cell_type": "code",
   "execution_count": null,
   "id": "46380aa1-a7c4-423d-9eb6-8c02e66c5675",
   "metadata": {},
   "outputs": [],
   "source": []
  },
  {
   "cell_type": "code",
   "execution_count": null,
   "id": "3a0054fe-2c7f-44b4-b5d5-14b9a4cf2a62",
   "metadata": {},
   "outputs": [],
   "source": []
  },
  {
   "cell_type": "code",
   "execution_count": null,
   "id": "6323f44c-df34-4f26-8faa-b957c30fc65d",
   "metadata": {},
   "outputs": [],
   "source": []
  },
  {
   "cell_type": "code",
   "execution_count": null,
   "id": "774385d3-2445-412e-8eb5-4737a4f4127e",
   "metadata": {},
   "outputs": [],
   "source": []
  },
  {
   "cell_type": "code",
   "execution_count": null,
   "id": "d5e0adeb-c805-4287-ac4f-22c8dd862624",
   "metadata": {},
   "outputs": [],
   "source": []
  },
  {
   "cell_type": "code",
   "execution_count": null,
   "id": "37a05aad-f415-4e84-b1e4-4bead3badc0d",
   "metadata": {},
   "outputs": [],
   "source": []
  },
  {
   "cell_type": "code",
   "execution_count": null,
   "id": "4c1a9ce1-77d6-4790-a257-edf749e3b647",
   "metadata": {},
   "outputs": [],
   "source": []
  },
  {
   "cell_type": "code",
   "execution_count": null,
   "id": "796a950a-2d5a-42cd-b297-c28edc7289ac",
   "metadata": {},
   "outputs": [],
   "source": []
  },
  {
   "cell_type": "code",
   "execution_count": null,
   "id": "98883323-c8cc-4097-a4a9-6796d0d26496",
   "metadata": {},
   "outputs": [],
   "source": []
  },
  {
   "cell_type": "code",
   "execution_count": null,
   "id": "ae685073-6d94-47a7-8d86-78fd37494c5e",
   "metadata": {},
   "outputs": [],
   "source": []
  },
  {
   "cell_type": "code",
   "execution_count": null,
   "id": "05979877-1d3c-4532-ad30-981e0196bb14",
   "metadata": {},
   "outputs": [],
   "source": []
  },
  {
   "cell_type": "code",
   "execution_count": null,
   "id": "ae107f57-f669-40b2-afc6-99c4bd72815f",
   "metadata": {},
   "outputs": [],
   "source": []
  },
  {
   "cell_type": "code",
   "execution_count": null,
   "id": "740eef21-eaad-46e5-8760-cbfe53cee793",
   "metadata": {},
   "outputs": [],
   "source": []
  },
  {
   "cell_type": "code",
   "execution_count": null,
   "id": "bebc0b36-21d2-4ac3-9560-c7e479f9816a",
   "metadata": {},
   "outputs": [],
   "source": []
  },
  {
   "cell_type": "code",
   "execution_count": null,
   "id": "dafb4ae3-3325-4339-8312-2da3c9f499d9",
   "metadata": {},
   "outputs": [],
   "source": []
  },
  {
   "cell_type": "code",
   "execution_count": null,
   "id": "f55babb5-6567-4149-808f-6802d6a6f38f",
   "metadata": {},
   "outputs": [],
   "source": []
  },
  {
   "cell_type": "code",
   "execution_count": null,
   "id": "045d7b8e-a341-4888-87b8-28865c2ec6b9",
   "metadata": {},
   "outputs": [],
   "source": []
  },
  {
   "cell_type": "code",
   "execution_count": null,
   "id": "079d4d83-9f34-4e37-9ae5-abe09b44bdab",
   "metadata": {},
   "outputs": [],
   "source": []
  },
  {
   "cell_type": "code",
   "execution_count": null,
   "id": "8e0c1a7e-9cf4-4eb9-bf28-baeb2eff10eb",
   "metadata": {},
   "outputs": [],
   "source": []
  },
  {
   "cell_type": "code",
   "execution_count": null,
   "id": "fba95ce8-67d3-467f-9a60-8d80c79ac653",
   "metadata": {},
   "outputs": [],
   "source": []
  },
  {
   "cell_type": "code",
   "execution_count": null,
   "id": "ad90a649-4e8d-4af4-87f0-8927e4b65c0b",
   "metadata": {},
   "outputs": [],
   "source": []
  },
  {
   "cell_type": "code",
   "execution_count": null,
   "id": "b212516b-37e9-48b8-9af7-4c1ecc764e0a",
   "metadata": {},
   "outputs": [],
   "source": []
  },
  {
   "cell_type": "code",
   "execution_count": null,
   "id": "04cf0749-3da7-4424-8c15-da89e7d302ae",
   "metadata": {},
   "outputs": [],
   "source": []
  },
  {
   "cell_type": "code",
   "execution_count": null,
   "id": "b05d9598-aec6-40c5-a1e3-c08b51780837",
   "metadata": {},
   "outputs": [],
   "source": []
  },
  {
   "cell_type": "code",
   "execution_count": null,
   "id": "448a190e-6942-4a3f-8a83-aa0a6e607750",
   "metadata": {},
   "outputs": [],
   "source": []
  },
  {
   "cell_type": "code",
   "execution_count": null,
   "id": "7e45489d-5767-4be4-8109-e98427304a3e",
   "metadata": {},
   "outputs": [],
   "source": []
  },
  {
   "cell_type": "code",
   "execution_count": null,
   "id": "37d1a518-560f-4423-82f1-cc14a439b80b",
   "metadata": {},
   "outputs": [],
   "source": [
    "\n"
   ]
  },
  {
   "cell_type": "code",
   "execution_count": null,
   "id": "e98cb39b-c7ef-4359-a712-f78068bc6942",
   "metadata": {},
   "outputs": [],
   "source": []
  },
  {
   "cell_type": "code",
   "execution_count": null,
   "id": "46fe2dc9-98c1-4c5c-9775-5094ee2d2b61",
   "metadata": {},
   "outputs": [],
   "source": []
  },
  {
   "cell_type": "code",
   "execution_count": null,
   "id": "0510f175-109c-42cb-bef7-892dc3fab8c3",
   "metadata": {},
   "outputs": [],
   "source": []
  },
  {
   "cell_type": "code",
   "execution_count": null,
   "id": "d452a410-e950-4f0d-b4fc-4121ee15436f",
   "metadata": {},
   "outputs": [],
   "source": []
  },
  {
   "cell_type": "code",
   "execution_count": null,
   "id": "6e52afe6-5b84-4480-a63c-1398780edb7b",
   "metadata": {},
   "outputs": [],
   "source": []
  },
  {
   "cell_type": "code",
   "execution_count": null,
   "id": "5a35f734-2bb3-40a1-a0e4-49441d229c8c",
   "metadata": {},
   "outputs": [],
   "source": []
  },
  {
   "cell_type": "code",
   "execution_count": null,
   "id": "2cce935c-390d-4de2-9b72-dd8f655834a9",
   "metadata": {},
   "outputs": [],
   "source": []
  },
  {
   "cell_type": "code",
   "execution_count": null,
   "id": "81f91b7a-82c4-4076-a47a-fde7463ec795",
   "metadata": {},
   "outputs": [],
   "source": []
  },
  {
   "cell_type": "code",
   "execution_count": null,
   "id": "7ffcd59d-0f19-4919-9788-c4c2436c1e6e",
   "metadata": {},
   "outputs": [],
   "source": []
  },
  {
   "cell_type": "code",
   "execution_count": null,
   "id": "0ebf92d5-221b-4cbd-a9f6-c0fd41576d99",
   "metadata": {},
   "outputs": [],
   "source": []
  },
  {
   "cell_type": "code",
   "execution_count": null,
   "id": "c0c6b106-4cbb-443e-8e61-1e8b5ec3a22c",
   "metadata": {},
   "outputs": [],
   "source": []
  },
  {
   "cell_type": "code",
   "execution_count": null,
   "id": "d6701253-d74c-47bb-bde2-c87ae7cb76b1",
   "metadata": {},
   "outputs": [],
   "source": []
  },
  {
   "cell_type": "code",
   "execution_count": null,
   "id": "a755c11e-8db4-47ba-96cc-e638b1785f15",
   "metadata": {},
   "outputs": [],
   "source": []
  },
  {
   "cell_type": "code",
   "execution_count": null,
   "id": "12fbb425-d6f2-4208-85df-ac01e2670dcc",
   "metadata": {},
   "outputs": [],
   "source": []
  },
  {
   "cell_type": "code",
   "execution_count": null,
   "id": "553235ce-6c46-4abd-8ee8-52643a348c46",
   "metadata": {},
   "outputs": [],
   "source": []
  },
  {
   "cell_type": "code",
   "execution_count": null,
   "id": "18dc7b07-d8a1-4d71-a7b0-4ce53d39126b",
   "metadata": {},
   "outputs": [],
   "source": []
  },
  {
   "cell_type": "code",
   "execution_count": null,
   "id": "4456b50c-448a-4c13-9728-b042cbf10dc1",
   "metadata": {},
   "outputs": [],
   "source": []
  },
  {
   "cell_type": "code",
   "execution_count": null,
   "id": "5d35fd08-c6a0-43a5-8586-70b53fbabbcd",
   "metadata": {},
   "outputs": [],
   "source": []
  },
  {
   "cell_type": "code",
   "execution_count": null,
   "id": "5ff3ed1c-1f3b-4d6e-942b-b75a22d98155",
   "metadata": {},
   "outputs": [],
   "source": []
  },
  {
   "cell_type": "code",
   "execution_count": null,
   "id": "170ab198-0afb-4969-ab1f-27046c5b724d",
   "metadata": {},
   "outputs": [],
   "source": []
  }
 ],
 "metadata": {
  "kernelspec": {
   "display_name": "Python 3 (ipykernel)",
   "language": "python",
   "name": "python3"
  },
  "language_info": {
   "codemirror_mode": {
    "name": "ipython",
    "version": 3
   },
   "file_extension": ".py",
   "mimetype": "text/x-python",
   "name": "python",
   "nbconvert_exporter": "python",
   "pygments_lexer": "ipython3",
   "version": "3.10.0"
  }
 },
 "nbformat": 4,
 "nbformat_minor": 5
}
